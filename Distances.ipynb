{
  "nbformat": 4,
  "nbformat_minor": 0,
  "metadata": {
    "colab": {
      "name": "Distances.ipynb",
      "provenance": [],
      "collapsed_sections": [],
      "toc_visible": true,
      "include_colab_link": true
    },
    "kernelspec": {
      "name": "python3",
      "display_name": "Python 3"
    },
    "language_info": {
      "name": "python"
    }
  },
  "cells": [
    {
      "cell_type": "markdown",
      "metadata": {
        "id": "view-in-github",
        "colab_type": "text"
      },
      "source": [
        "<a href=\"https://colab.research.google.com/github/PaoloGerosa/Chemotherapy-Associated-Liver-Injury/blob/main/Distances.ipynb\" target=\"_parent\"><img src=\"https://colab.research.google.com/assets/colab-badge.svg\" alt=\"Open In Colab\"/></a>"
      ]
    },
    {
      "cell_type": "markdown",
      "metadata": {
        "id": "QjGV8EaVNQVF"
      },
      "source": [
        "## Euclidean Distance"
      ]
    },
    {
      "cell_type": "code",
      "metadata": {
        "id": "FtifRdC5L18W"
      },
      "source": [
        "import math\n",
        "\n",
        "def euclidean_distance(vol_i, vol_j):\n",
        "  distance = 0\n",
        "  for i in range(len(vol_i)):\n",
        "    for j in range(len(vol_i[0])):\n",
        "      for z in range(len(vol_i[0][0])):\n",
        "        distance += (vol_i[i][j][z] - vol_j[i][j][z])**2\n",
        "  return math.sqrt(distance)\n",
        "\n",
        "def get_eucl_dist(volumes):\n",
        "  dist = [[0]*len(volumes) for _ in range(len(volumes))]\n",
        "  for i in range(len(volumes)):\n",
        "    for j in range(i+1, len(volumes)):\n",
        "      dist[i][j] = euclidean_distance(volumes[i], volumes[j])\n",
        "      dist[j][i] = dist[i][j]\n",
        "  return dist"
      ],
      "execution_count": null,
      "outputs": []
    },
    {
      "cell_type": "markdown",
      "metadata": {
        "id": "2rd_1iSrNVcq"
      },
      "source": [
        "## Absolute Distance"
      ]
    },
    {
      "cell_type": "code",
      "metadata": {
        "id": "kk2AqZMUOJJ_"
      },
      "source": [
        "def absolute_distance(value_i, value_j):\n",
        "  return abs(value_i - value_j)\n",
        "\n",
        "def get_abs_dist(values):\n",
        "  dist = [[0]*len(values) for _ in range(len(values))]\n",
        "  for i in range(len(values)):\n",
        "    for j in range(i+1, len(values)):\n",
        "      dist[i][j] = absolute_distance(values[i], values[j])\n",
        "      dist[j][i] = dist[i][j]\n",
        "  return dist"
      ],
      "execution_count": null,
      "outputs": []
    },
    {
      "cell_type": "markdown",
      "metadata": {
        "id": "Lxh1vZc-GPN3"
      },
      "source": [
        "# Import Distances - SIFT3D"
      ]
    },
    {
      "cell_type": "code",
      "metadata": {
        "id": "VNFhyDtkGh5u"
      },
      "source": [
        "import scipy.io as sio\n",
        "\n",
        "def get_sift_dist():\n",
        "  \n",
        "  SiftDistFile = sio.loadmat('/content/mnt/MyDrive/Project_X/DistancesSift.mat')\n",
        "  \n",
        "  SiftDist = SiftDistFile['dist']\n",
        "  \n",
        "  return SiftDist"
      ],
      "execution_count": null,
      "outputs": []
    },
    {
      "cell_type": "markdown",
      "metadata": {
        "id": "VG5ff5KNUGcQ"
      },
      "source": [
        "# IMED"
      ]
    },
    {
      "cell_type": "code",
      "metadata": {
        "id": "UzA4NP6JUJd2",
        "colab": {
          "base_uri": "https://localhost:8080/"
        },
        "outputId": "0634fd2e-e270-42cd-993e-112d379c82d8"
      },
      "source": [
        "!pip install IMED"
      ],
      "execution_count": null,
      "outputs": [
        {
          "output_type": "stream",
          "name": "stdout",
          "text": [
            "Collecting IMED\n",
            "  Downloading IMED-0.0.1.8-py3-none-any.whl (22 kB)\n",
            "Installing collected packages: IMED\n",
            "Successfully installed IMED-0.0.1.8\n"
          ]
        }
      ]
    },
    {
      "cell_type": "code",
      "metadata": {
        "id": "mXmimdslULXj",
        "colab": {
          "base_uri": "https://localhost:8080/",
          "height": 83
        },
        "outputId": "a40c1fd6-d3ae-473f-d580-3578891318e4"
      },
      "source": [
        "'''\n",
        "import IMED\n",
        "from IMED.standardizingTrans_ndim import ST_ndim_DCT, ST_ndim_FFT, ST_ndim_DCT_by_FFT\n",
        "from IMED.spatial_ST import ST_fullMat, ST_sepMat\n",
        "\n",
        "#Helper function\n",
        "def standardizingTrans(imgs,sigma,method='dct',eps=0,inverse=False):\n",
        "    \"\"\"\n",
        "    Takes sequence of images imgs and returns the Spatial Standardized Transform of all images.\n",
        "    Methods 'full' and 'sep' are 2D methods.\n",
        "\n",
        "    Parameters:\n",
        "    * imgs (3D array) is a sequence of images to be transformed with dimensions (T,M,N)\n",
        "    * sigma (float)/array-like determines the zero-mean Gaussian that defines the IMED matrix G - not G^(1/2).\n",
        "      If sigma is array-like it should contain the same number of values as the number of dimensions of imgs.\n",
        "\n",
        "    * eps (float) is an optional small parameter to offset the Gaussian so that it is always numerically non-zero. \n",
        "    This can allow deconvolution without significant noise amplification.\n",
        "    * method (string) is the method used to perform the standardizing transform. Choose between:\n",
        "     1. **'full':** Full Dense Matrix $z_{ST}= G^{1/2}z$ using eigenvalue decomposition\n",
        "     2. **'sep'** Separated Dense Matrices $z_{ST}= G_x^{1/2}z G_y^{1/2}$ using eigenvalue decomposition \n",
        "     3. **'fft'**: Performs circular convolution using discrete fourier transforms of image and Gaussian \n",
        "     without enforcing symmetric boundary conditions\n",
        "     4. **'dct_by_fft'**: Performs circular convolution using discrete fourier transforms of mirrored image and \n",
        "     Gaussian to ensure symmetric boundary conditions and reduce edge effects from 'Gibbs-like phenomenon'\n",
        "     5. **'dct'**: Performs symmetric convolution using discrete cosine transform of image, which is identical to\n",
        "     6. the 'dct_by_fft  method, but should be more efficient\n",
        "    \"\"\"\n",
        "    \n",
        "    if  method == 'full':\n",
        "        if inverse==True:\n",
        "            print(\"No inverse method implemented\")\n",
        "            return\n",
        "        imgs_ST = ST_fullMat(imgs,sigma,eps)\n",
        "    \n",
        "    elif method == 'sep':\n",
        "        if inverse==True:\n",
        "            print(\"No inverse method implemented\")\n",
        "            return\n",
        "        imgs_ST = ST_sepMat(imgs,sigma,eps)\n",
        "\n",
        "    elif method == 'fft':\n",
        "        imgs_ST = ST_ndim_FFT(imgs, sigma, eps,inverse)\n",
        "        \n",
        "    elif method == 'dct_by_fft':\n",
        "        imgs_ST = ST_ndim_DCT_by_FFT(imgs, sigma, eps,inverse)\n",
        "    \n",
        "    elif method == 'dct':\n",
        "        imgs_ST = ST_ndim_DCT(imgs, sigma, eps, inverse)\n",
        "        \n",
        "    else:\n",
        "        print(f'Invalid method \"{method}\". Choosing dct.')\n",
        "        method = 'dct'\n",
        "        standardizingTrans(imgs,sigma,method,eps,inverse)    \n",
        "    \n",
        "    return imgs_ST\n",
        "'''"
      ],
      "execution_count": null,
      "outputs": [
        {
          "output_type": "execute_result",
          "data": {
            "application/vnd.google.colaboratory.intrinsic+json": {
              "type": "string"
            },
            "text/plain": [
              "'\\nimport IMED\\nfrom IMED.standardizingTrans_ndim import ST_ndim_DCT, ST_ndim_FFT, ST_ndim_DCT_by_FFT\\nfrom IMED.spatial_ST import ST_fullMat, ST_sepMat\\n\\n#Helper function\\ndef standardizingTrans(imgs,sigma,method=\\'dct\\',eps=0,inverse=False):\\n    \"\"\"\\n    Takes sequence of images imgs and returns the Spatial Standardized Transform of all images.\\n    Methods \\'full\\' and \\'sep\\' are 2D methods.\\n\\n    Parameters:\\n    * imgs (3D array) is a sequence of images to be transformed with dimensions (T,M,N)\\n    * sigma (float)/array-like determines the zero-mean Gaussian that defines the IMED matrix G - not G^(1/2).\\n      If sigma is array-like it should contain the same number of values as the number of dimensions of imgs.\\n\\n    * eps (float) is an optional small parameter to offset the Gaussian so that it is always numerically non-zero. \\n    This can allow deconvolution without significant noise amplification.\\n    * method (string) is the method used to perform the standardizing transform. Choose between:\\n     1. **\\'full\\':** Full Dense Matrix $z_{ST}= G^{1/2}z$ using eigenvalue decomposition\\n     2. **\\'sep\\'** Separated Dense Matrices $z_{ST}= G_x^{1/2}z G_y^{1/2}$ using eigenvalue decomposition \\n     3. **\\'fft\\'**: Performs circular convolution using discrete fourier transforms of image and Gaussian \\n     without enforcing symmetric boundary conditions\\n     4. **\\'dct_by_fft\\'**: Performs circular convolution using discrete fourier transforms of mirrored image and \\n     Gaussian to ensure symmetric boundary conditions and reduce edge effects from \\'Gibbs-like phenomenon\\'\\n     5. **\\'dct\\'**: Performs symmetric convolution using discrete cosine transform of image, which is identical to\\n     6. the \\'dct_by_fft  method, but should be more efficient\\n    \"\"\"\\n    \\n    if  method == \\'full\\':\\n        if inverse==True:\\n            print(\"No inverse method implemented\")\\n            return\\n        imgs_ST = ST_fullMat(imgs,sigma,eps)\\n    \\n    elif method == \\'sep\\':\\n        if inverse==True:\\n            print(\"No inverse method implemented\")\\n            return\\n        imgs_ST = ST_sepMat(imgs,sigma,eps)\\n\\n    elif method == \\'fft\\':\\n        imgs_ST = ST_ndim_FFT(imgs, sigma, eps,inverse)\\n        \\n    elif method == \\'dct_by_fft\\':\\n        imgs_ST = ST_ndim_DCT_by_FFT(imgs, sigma, eps,inverse)\\n    \\n    elif method == \\'dct\\':\\n        imgs_ST = ST_ndim_DCT(imgs, sigma, eps, inverse)\\n        \\n    else:\\n        print(f\\'Invalid method \"{method}\". Choosing dct.\\')\\n        method = \\'dct\\'\\n        standardizingTrans(imgs,sigma,method,eps,inverse)    \\n    \\n    return imgs_ST\\n'"
            ]
          },
          "metadata": {},
          "execution_count": 6
        }
      ]
    },
    {
      "cell_type": "code",
      "metadata": {
        "id": "lGmEWh51VAB9"
      },
      "source": [
        "import numpy as np\n",
        "\n",
        "def get_IMED_dist(volumes):\n",
        "\n",
        "  new_volumes = volumes\n",
        "\n",
        "  for i in range(len(volumes)):\n",
        "\n",
        "    new_volumes[i] = standardizingTrans(np.array(volumes[i]), sigma = 1, method='fft', eps=0, inverse=False)\n",
        "\n",
        "  return get_eucl_dist(new_volumes)"
      ],
      "execution_count": null,
      "outputs": []
    },
    {
      "cell_type": "markdown",
      "metadata": {
        "id": "Ozdi-ke1V26h"
      },
      "source": [
        "# WASSERSTEIN DISTANCE"
      ]
    },
    {
      "cell_type": "code",
      "metadata": {
        "id": "mkHAhvlhV9lT"
      },
      "source": [
        "import scipy.stats\n",
        "from scipy.stats import wasserstein_distance"
      ],
      "execution_count": null,
      "outputs": []
    },
    {
      "cell_type": "code",
      "metadata": {
        "id": "CwgIGHvqWJ20"
      },
      "source": [
        "#Return the distance matrix between histograms. \n",
        "#Input = stat_features['Histogram'] or stat_features['Second Histogram']\n",
        "\n",
        "def hist_dist(histograms): \n",
        "\n",
        "  dist = [[0]*len(histograms) for _ in range(len(histograms))]\n",
        "  \n",
        "  for i in range(len(histograms)):\n",
        "\n",
        "    for j in range(i+1, len(histograms)):\n",
        "\n",
        "      dist[i][j] = wasserstein_distance(histograms[i][0], histograms[j][0])\n",
        "\n",
        "      dist[j][i] = dist[i][j]\n",
        "\n",
        "  return dist"
      ],
      "execution_count": null,
      "outputs": []
    },
    {
      "cell_type": "markdown",
      "metadata": {
        "id": "KaF3JzMxuDlx"
      },
      "source": [
        "# **Distances for functions: AC distance, L1 distance for derivatives**"
      ]
    },
    {
      "cell_type": "code",
      "metadata": {
        "id": "sTpMU0CDuDcB"
      },
      "source": [
        "## AC distance: distanza L1 delle funzioni + distanza L1 delle derivate \n",
        "## il codice funziona solo per funzioni lineari a tratti \n",
        "\n",
        "def get_AC_dist(values):\n",
        "  dist = [[0]*len(values) for _ in range(len(values))]\n",
        "  for i in range(len(values)):\n",
        "    for j in range(i+1, len(values)):\n",
        "      dist[i][j] = AC_dist(values.iloc[i], values.iloc[j])\n",
        "      dist[j][i] = dist[i][j]\n",
        "  return dist\n",
        "\n",
        "\n",
        "import matplotlib.pyplot as plt\n",
        "from scipy import interpolate\n",
        "\n",
        "\n",
        "def AC_dist(f1,f2):\n",
        "  # L1_ derivative dist\n",
        "  L1_der_d = 0 \n",
        "  for i in (range(len(f1)-1)):\n",
        "    der_1 = (f1[i+1]-f1[i]) \n",
        "    der_2 = (f2[i+1]-f2[i])\n",
        "    L1_der_d = L1_der_d + abs(der_1 - der_2)\n",
        "  # L1 dist \n",
        "  L1_d = 0\n",
        "  for i in range(len(f1)-1):\n",
        "    if (f1[i]-f2[i])*(f1[i+1]-f2[i+1]) >= 0: \n",
        "      L1_d = L1_d + abs((f1[i]+f1[i+1])/2-(f2[i]+f2[i+1])/2)\n",
        "    else :\n",
        "      m1 = f1[i+1]-f1[i]\n",
        "      m2 = f2[i+1]-f2[i]\n",
        "      f1_line = interpolate.interp1d([i,i+1], [f1[i],f1[i+1]], kind = 'linear', fill_value = \"extrapolate\")\n",
        "      f2_line = interpolate.interp1d([i,i+1], [f2[i],f2[i+1]], kind = 'linear', fill_value = \"extrapolate\")\n",
        "      q1 = f1_line(0)\n",
        "      q2 = f2_line(0)\n",
        "      intersec = (q2 - q1 )/ ( m1 - m2 )\n",
        "      h = intersec - i \n",
        "      L1_d = L1_d + abs(f1[i]-f2[i])*(h)/2+abs(f1[i+1]-f2[i+1])*(1-h)/2\n",
        "  return L1_der_d + L1_d \n",
        "\n",
        "def L1_der_dist(f1,f2):\n",
        "  # L1_ derivative dist\n",
        "  L1_der_d = 0 \n",
        "  for i in (range(len(f1)-1)):\n",
        "    der_1 = f1[i+1]-f1[i]\n",
        "    der_2 = f2[i+1]-f2[i]\n",
        "    L1_der_d = L1_der_d + abs(der_1 - der_2)\n",
        "  return L1_der_d\n",
        "  \n",
        "def get_L1_der_dist(values):\n",
        "  dist = [[0]*len(values) for _ in range(len(values))]\n",
        "  for i in range(len(values)):\n",
        "    for j in range(i+1, len(values)):\n",
        "      dist[i][j] = L1_der_dist(values.iloc[i], values.iloc[j])\n",
        "      dist[j][i] = dist[i][j]\n",
        "  return dist\n",
        "\n",
        "\n"
      ],
      "execution_count": null,
      "outputs": []
    }
  ]
}