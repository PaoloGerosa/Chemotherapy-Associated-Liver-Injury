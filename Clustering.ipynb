{
  "nbformat": 4,
  "nbformat_minor": 0,
  "metadata": {
    "colab": {
      "name": "Clustering.ipynb",
      "provenance": [],
      "collapsed_sections": [],
      "include_colab_link": true
    },
    "kernelspec": {
      "name": "python3",
      "display_name": "Python 3"
    },
    "language_info": {
      "name": "python"
    }
  },
  "cells": [
    {
      "cell_type": "markdown",
      "metadata": {
        "id": "view-in-github",
        "colab_type": "text"
      },
      "source": [
        "<a href=\"https://colab.research.google.com/github/PaoloGerosa/Chemotherapy-Associated-Liver-Injury/blob/main/Clustering.ipynb\" target=\"_parent\"><img src=\"https://colab.research.google.com/assets/colab-badge.svg\" alt=\"Open In Colab\"/></a>"
      ]
    },
    {
      "cell_type": "markdown",
      "metadata": {
        "id": "y6XbqXy0MlOS"
      },
      "source": [
        "# **Upload Packages**"
      ]
    },
    {
      "cell_type": "code",
      "metadata": {
        "id": "_7XXFLf1MfbC"
      },
      "source": [
        "import pandas as pd\n",
        "from sklearn.metrics import silhouette_samples, silhouette_score\n",
        "from sklearn.cluster import AgglomerativeClustering\n",
        "from sklearn_extra.cluster import KMedoids\n",
        "from sklearn.cluster import DBSCAN\n",
        "import matplotlib.pyplot as plt"
      ],
      "execution_count": null,
      "outputs": []
    },
    {
      "cell_type": "markdown",
      "metadata": {
        "id": "bUBoGOJ8QOUF"
      },
      "source": [
        "# **Confusion Matrix** "
      ]
    },
    {
      "cell_type": "code",
      "metadata": {
        "id": "KDSi4E5pMFR6"
      },
      "source": [
        "# clustering_score is a function used to compute a dataframe. If number of inputs is 2 \n",
        "# (outcome_dataset, predictive labels) the columns are\n",
        "# the type of CALI and which rows are the predictive labels --> the value of the cells\n",
        "# represent the number of patients belonging to group i that have CALI j.\n",
        "# If number of inputs is 3 (outcome_dataset, predictive labels, type of CALI)\n",
        "# then it simply gives the confusion matrix of the CALI given in input\n",
        "\n",
        "\n",
        "def clustering_score(outcome, labels, patients, patients_index):\n",
        "  confusion_matrix = pd.DataFrame(0, index=[i for i in range(max(labels) + 1)], columns=[col for col in outcome.columns])\n",
        "  patients_index_aux = set(patients_index)\n",
        "  for id, label in zip(patients, labels):\n",
        "    if id in patients_index_aux:\n",
        "      key = outcome_dataset.loc[id][combo]\n",
        "      for col in outcome.columns:\n",
        "        if outcome.loc[key][col]:\n",
        "          confusion_matrix[col][label] += 1\n",
        "\n",
        "  return confusion_matrix"
      ],
      "execution_count": null,
      "outputs": []
    },
    {
      "cell_type": "code",
      "metadata": {
        "id": "rV4qn7nyOxY2"
      },
      "source": [
        "#patients_index - dataset\n",
        "#patients - volumi\n",
        "\n",
        "# confusion_matrix takes in input the outcome_dataset and the predictide labels\n",
        "# and gives in output the confusion matrix using the CALI column of the outcome_dataframe\n",
        "def confusion_matrix(*args):\n",
        "  if len(args) == 5:\n",
        "    outcome, labels, combo, patients, patients_index = args\n",
        "  else:\n",
        "    outcome, labels, patients, patients_index = args\n",
        "    combo = 'CALI'\n",
        "  patients_index_aux = set(patients_index)\n",
        "  confusion_matrix = pd.DataFrame(0, index=[0, 1], columns=[i for i in range(max(labels) + 1)])\n",
        "  for id, label in zip(patients, labels):\n",
        "    if id in patients_index_aux:\n",
        "      key = outcome.loc[id][combo]\n",
        "      if key is not None:\n",
        "        confusion_matrix[label][key] += 1\n",
        "  return confusion_matrix"
      ],
      "execution_count": null,
      "outputs": []
    },
    {
      "cell_type": "code",
      "metadata": {
        "id": "otxk8p-FB0ZP"
      },
      "source": [
        "# function to exctract the indices of the true positive and true negative patients\n",
        "\n",
        "def diagonal_index(outcome, labels, combo, patients, patients_index):\n",
        "  patients_index_aux = set(patients_index)\n",
        "  true_positive = []\n",
        "  true_negative = []\n",
        "  for id, label in zip(patients, labels):\n",
        "    if id in patients_index_aux:\n",
        "      key = outcome.loc[id][combo]\n",
        "      if key == 1 and label == 1:\n",
        "        true_positive.append(id)\n",
        "      elif key == 0 and label == 0:\n",
        "        true_negative.append(id)\n",
        "  return true_positive, true_negative"
      ],
      "execution_count": null,
      "outputs": []
    },
    {
      "cell_type": "code",
      "metadata": {
        "id": "FyZTjlN5fh7G"
      },
      "source": [
        "'''\n",
        "def confusion_matrix(*args):\n",
        "  if len(args) == 2:\n",
        "    outcome, labels = args\n",
        "    index = 0\n",
        "    confusion_matrix = pd.DataFrame(0, index=[0, 1], columns=[i for i in range(max(labels) + 1)])\n",
        "    for key in outcome[\"CALI\"]:\n",
        "      if key is not None:\n",
        "        confusion_matrix[labels[index]][key] += 1\n",
        "      index += 1\n",
        "    return confusion_matrix\n",
        "\n",
        "  elif len(args) == 3:\n",
        "    outcome, labels, combo = args\n",
        "    index = 0\n",
        "    confusion_matrix = pd.DataFrame(0, index=[0, 1], columns=[i for i in range(max(labels) + 1)])\n",
        "    for key in outcome[combo]:\n",
        "      if key is not None and key >= 0:\n",
        "        confusion_matrix[labels[index]][key] += 1\n",
        "      index += 1\n",
        "      \n",
        "    return confusion_matrix\n",
        "  '''"
      ],
      "execution_count": null,
      "outputs": []
    },
    {
      "cell_type": "markdown",
      "metadata": {
        "id": "5mYkWcR_Qc_g"
      },
      "source": [
        "# **Clustering**"
      ]
    },
    {
      "cell_type": "code",
      "metadata": {
        "id": "lX7qkDdMOBTY"
      },
      "source": [
        "# clust_methods computes the Clustering labels given the distance matrix, the type\n",
        "# of clustering technique and the number of clusters to be used\n",
        "\n",
        "def clust_methods(dist,clust_type,n_centr):\n",
        "\n",
        "  if clust_type == \"Agglomerative\": \n",
        "    model = AgglomerativeClustering(affinity='precomputed', n_clusters = n_centr, linkage='complete').fit(dist)\n",
        "    model_labels = model.labels_\n",
        "    \n",
        "  elif clust_type == \"Kmedoids\": \n",
        "    model = KMedoids(n_clusters = n_centr, metric = 'precomputed').fit(dist)\n",
        "    model_labels = model.predict(dist)\n",
        "    \n",
        "  elif clust_type == \"DBSCAN\":\n",
        "    model = DBSCAN(eps = 1300, min_samples = n_centr, metric='precomputed').fit(dist)\n",
        "    model_labels = model.labels_\n",
        "  \n",
        "  return model_labels\n",
        "    \n"
      ],
      "execution_count": null,
      "outputs": []
    },
    {
      "cell_type": "markdown",
      "metadata": {
        "id": "PR3EceZPQkG1"
      },
      "source": [
        "# **Optimal K**"
      ]
    },
    {
      "cell_type": "code",
      "metadata": {
        "id": "8cVHmtuDPN2C"
      },
      "source": [
        "# clust_methods computes the Clustering labels given the distance matrix, the type\n",
        "# of clustering technique and the number of clusters to be used\n",
        "\n",
        "def Silhouette_Analysis(dist, clust_type):\n",
        "  range_n_clusters = [2,3,4,5,6,7]\n",
        "  for k in range_n_clusters:\n",
        "    cluster_labels = clust_methods(dist,clust_type,k)\n",
        "    silhouette_avg = silhouette_score(dist, cluster_labels, metric = 'precomputed')\n",
        "    print(\"For n_clusters =\", k,\n",
        "          \"The average silhouette_score is :\", silhouette_avg)\n"
      ],
      "execution_count": null,
      "outputs": []
    },
    {
      "cell_type": "code",
      "metadata": {
        "id": "qNFjNdv2TnP-"
      },
      "source": [
        "def inertia (dist):\n",
        "  Ks = range(1, 10)\n",
        "  inertia = [KMedoids(i, metric = 'precomputed').fit(dist).inertia_ for i in Ks]\n",
        "\n",
        "  fig = plt.figure()\n",
        "  plt.plot(Ks, inertia, '-bo')\n",
        "  plt.xlabel('Number of clusters')\n",
        "  plt.ylabel('Inertia (within-cluster sum of squares)')\n",
        "  plt.show()"
      ],
      "execution_count": null,
      "outputs": []
    },
    {
      "cell_type": "markdown",
      "metadata": {
        "id": "Kn6tKGuUjGe8"
      },
      "source": [
        "# Confusion matrix with relative frequencies"
      ]
    },
    {
      "cell_type": "code",
      "metadata": {
        "id": "N9OdSh4VjFyO"
      },
      "source": [
        "def score_relative (outcome_dataset, matrix, num_1):\n",
        "  matrix_rel = pd.DataFrame(columns = outcome_dataset.columns)\n",
        "  row_to_add = pd.Series(matrix.iloc[0] / (125-num_1), name = 0)\n",
        "  matrix_rel = matrix_rel.append(row_to_add)\n",
        "  row_to_add = pd.Series(matrix.iloc[1] / num_1, name = 1)\n",
        "  matrix_rel = matrix_rel.append(row_to_add)\n",
        "  return matrix_rel"
      ],
      "execution_count": null,
      "outputs": []
    }
  ]
}