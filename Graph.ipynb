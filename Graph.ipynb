{
  "nbformat": 4,
  "nbformat_minor": 0,
  "metadata": {
    "colab": {
      "name": "Graph.ipynb",
      "provenance": [],
      "collapsed_sections": [],
      "toc_visible": true,
      "include_colab_link": true
    },
    "kernelspec": {
      "name": "python3",
      "display_name": "Python 3"
    }
  },
  "cells": [
    {
      "cell_type": "markdown",
      "metadata": {
        "id": "view-in-github",
        "colab_type": "text"
      },
      "source": [
        "<a href=\"https://colab.research.google.com/github/PaoloGerosa/Chemotherapy-Associated-Liver-Injury/blob/main/Graph.ipynb\" target=\"_parent\"><img src=\"https://colab.research.google.com/assets/colab-badge.svg\" alt=\"Open In Colab\"/></a>"
      ]
    },
    {
      "cell_type": "code",
      "metadata": {
        "id": "RC8UPM5Qj7WE"
      },
      "source": [
        "import plotly.graph_objects as go\n",
        "import numpy as np\n",
        "import plotly.express as px\n",
        "import pandas as pd \n",
        "from plotly.subplots import make_subplots\n",
        "import plotly.figure_factory as ff\n",
        "import numpy as np\n",
        "import Clustering \n"
      ],
      "execution_count": null,
      "outputs": []
    },
    {
      "cell_type": "code",
      "metadata": {
        "id": "cE4ht-Z3wlmP"
      },
      "source": [
        "import plotly.graph_objects as go\n",
        "import numpy as np\n",
        "\n",
        "def plot_3D(*args):\n",
        "  if len(args) == 2:\n",
        "    X, Y, Z = np.mgrid[-1:1:10j, -1:1:10j, -1:1:30j]\n",
        "    values = args[0]\n",
        "\n",
        "    fig = go.Figure(data=go.Volume(\n",
        "        x=X.flatten(),\n",
        "        y=Y.flatten(),\n",
        "        z=Z.flatten(),\n",
        "        value=values.flatten(),\n",
        "        isomin=np.mean(values)-2*np.std(values),\n",
        "        isomax=np.mean(values)+2*np.std(values),\n",
        "        opacity=0.2, # needs to be small to see through all surfaces\n",
        "        surface_count=20, # needs to be a large number for good volume rendering\n",
        "        ))\n",
        "    fig.update_layout(\n",
        "          title= args[1]\n",
        "    )\n",
        "    fig.show()\n",
        "  elif len(args) == 4:\n",
        "    X, Y, Z = np.mgrid[-15:15:30j, -5:5:10j, -5:5:10j]\n",
        "    \n",
        "    values, isominimum, isomaximum = args[0:3]\n",
        "\n",
        "    fig = go.Figure(data=go.Volume(\n",
        "        x=X.flatten(),\n",
        "        y=Y.flatten(),\n",
        "        z=Z.flatten(),\n",
        "        value=values.flatten(),\n",
        "        isomin=isominimum,\n",
        "        isomax=isomaximum,\n",
        "        #colorscale = 'gray',\n",
        "        opacity=0.1, # needs to be small to see through all surfaces\n",
        "        surface_count=17, # needs to be a large number for good volume rendering\n",
        "        ))\n",
        "    fig.update_layout(\n",
        "          title= args[3]\n",
        "    )\n",
        "    fig.show()"
      ],
      "execution_count": null,
      "outputs": []
    },
    {
      "cell_type": "code",
      "metadata": {
        "id": "OytdNqfO_knI"
      },
      "source": [
        "def plot_slices(volume):\n",
        "  r, c = volume[0].shape\n",
        "\n",
        "  # Define frames\n",
        "  nb_frames = 30\n",
        "\n",
        "  fig = go.Figure(frames=[go.Frame(data=go.Surface(\n",
        "      z=(29 - k) * np.ones((r, c)),\n",
        "      surfacecolor=np.flipud(volume[29 - k]),\n",
        "      cmin=np.mean(volume)-2*np.std(volume), cmax=np.mean(volume)+2*np.std(volume)\n",
        "      ),\n",
        "      name=str(k) # you need to name the frame for the animation to behave properly\n",
        "      )\n",
        "      for k in range(nb_frames)])\n",
        "\n",
        "  # Add data to be displayed before animation starts\n",
        "  fig.add_trace(go.Surface(\n",
        "      z=29 * np.ones((r, c)),\n",
        "      surfacecolor=np.flipud(volume[29]),\n",
        "      cmin=np.mean(volume)-2*np.std(volume), cmax=np.mean(volume)+2*np.std(volume), opacity = 0.8,\n",
        "      colorbar=dict(thickness=20, ticklen=4)\n",
        "      ))\n",
        "\n",
        "\n",
        "  def frame_args(duration):\n",
        "      return {\n",
        "              \"frame\": {\"duration\": duration},\n",
        "              \"mode\": \"immediate\",\n",
        "              \"fromcurrent\": True,\n",
        "              \"transition\": {\"duration\": duration, \"easing\": \"linear\"},\n",
        "          }\n",
        "\n",
        "  sliders = [\n",
        "              {\n",
        "                  \"pad\": {\"b\": 10, \"t\": 60},\n",
        "                  \"len\": 0.9,\n",
        "                  \"x\": 0.1,\n",
        "                  \"y\": 0,\n",
        "                  \"steps\": [\n",
        "                      {\n",
        "                          \"args\": [[f.name], frame_args(0)],\n",
        "                          \"label\": str(k),\n",
        "                          \"method\": \"animate\",\n",
        "                      }\n",
        "                      for k, f in enumerate(fig.frames)\n",
        "                  ],\n",
        "              }\n",
        "          ]\n",
        "\n",
        "  # Layout\n",
        "  fig.update_layout(\n",
        "          title='Slices in a volumetric liver image',\n",
        "          width=600,\n",
        "          height=600,\n",
        "          scene=dict(\n",
        "                      zaxis=dict(range=[-0.1, 29], autorange=False),\n",
        "                      aspectratio=dict(x=1, y=1, z=1),\n",
        "                      ),\n",
        "          updatemenus = [\n",
        "              {\n",
        "                  \"buttons\": [\n",
        "                      {\n",
        "                          \"args\": [None, frame_args(150)],\n",
        "                          \"label\": \"&#9654;\", # play symbol\n",
        "                          \"method\": \"animate\",\n",
        "                      },\n",
        "                      {\n",
        "                          \"args\": [[None], frame_args(0)],\n",
        "                          \"label\": \"&#9724;\", # pause symbol\n",
        "                          \"method\": \"animate\",\n",
        "                      },\n",
        "                  ],\n",
        "                  \"direction\": \"left\",\n",
        "                  \"pad\": {\"r\": 10, \"t\": 70},\n",
        "                  \"type\": \"buttons\",\n",
        "                  \"x\": 0.1,\n",
        "                  \"y\": 0,\n",
        "              }\n",
        "          ],\n",
        "          sliders=sliders\n",
        "  )\n",
        "\n",
        "  fig.show()"
      ],
      "execution_count": null,
      "outputs": []
    },
    {
      "cell_type": "code",
      "metadata": {
        "id": "TLkPlr0IGwgq"
      },
      "source": [
        "import matplotlib.pyplot as plt\n",
        "\n",
        "def plot_hist(hist):\n",
        "  plt.plot(hist[0],hist[1][:-1])\n",
        "  plt.show()"
      ],
      "execution_count": null,
      "outputs": []
    },
    {
      "cell_type": "markdown",
      "metadata": {
        "id": "r-P7rW5PjzQz"
      },
      "source": [
        "# **Graphics for Clustering**"
      ]
    },
    {
      "cell_type": "code",
      "metadata": {
        "id": "DSYOAGI-R6UV"
      },
      "source": [
        "def visualize(dataset, dist, name_alg, k):\n",
        "  labels = Clustering.clust_methods(dist, name_alg, k)\n",
        "  matrix = Clustering.clustering_score(dataset, labels)\n",
        "  mat = Clustering.confusion_matrix(dataset,labels)\n",
        "  matrix.drop('CALI', axis = 1, inplace = True)\n",
        "  clust_bar(matrix,k)\n",
        "  clust_pie(matrix,k)\n",
        "  confusion_heatmap(mat)"
      ],
      "execution_count": null,
      "outputs": []
    },
    {
      "cell_type": "code",
      "metadata": {
        "id": "i8YS52x9SDJx"
      },
      "source": [
        "def visualize_rel(dataset, dist, name_alg, k):\n",
        "  labels = Clustering.clust_methods(dist, name_alg, k)\n",
        "  num_1 = np.sum(labels)\n",
        "  matrix2 = Clustering.clustering_score(dataset, labels)\n",
        "  matrix2_rel = Clustering.score_relative(dataset, matrix2, num_1)\n",
        "  matrix2_rel.drop('CALI', axis = 1, inplace = True)\n",
        "  clust_bar(matrix2_rel,k)"
      ],
      "execution_count": null,
      "outputs": []
    },
    {
      "cell_type": "code",
      "metadata": {
        "id": "MEV1dNHBjyT0"
      },
      "source": [
        "def clust_bar(matrix, k): \n",
        "  col = list(range(k))\n",
        "  matrix['GROUP'] = col\n",
        "  fig = px.bar(matrix, x = \"GROUP\", y = ['SOS', 'Fibrosis perisinusoidal', 'Fibrosis centrolobular', 'Peliosis', 'NRH', 'Steatosis', 'Lobular flogosis', 'Balooning', 'Steatohepatitis'])\n",
        "  fig.show()\n",
        "  matrix.drop('GROUP', axis = 1, inplace = True)\n",
        "  matrix = matrix.T\n",
        "  matrix = matrix.reset_index()\n",
        "  matrix.rename({'index':'CALI'},axis = 1,inplace = True)\n",
        "  fig = px.bar(matrix, x = \"CALI\", y = col)\n",
        "  fig.show()"
      ],
      "execution_count": null,
      "outputs": []
    },
    {
      "cell_type": "code",
      "metadata": {
        "id": "KDfXVRrSjydV"
      },
      "source": [
        "def clust_pie(matrix, k):\n",
        "  matrix['GROUP'] = range(k)\n",
        "  #for cali in matrix.columns[:9]:\n",
        "  #  fig1 = px.pie(matrix, values = cali, names = 'GROUP', title = cali, width=1000)\n",
        "  #  fig1.show()\n",
        "  \n",
        "  fig1 = make_subplots(rows=3, cols=3, specs=[[{'type':'domain'}]*3]*3);\n",
        "  i = 1\n",
        "  j = 1\n",
        "  for cali in matrix.columns[:9]:\n",
        "    fig1 = fig1.add_trace(go.Pie(labels = matrix['GROUP'], values = matrix[cali], title = cali),i,j)\n",
        "    if j%3 == 0:\n",
        "      i += 1\n",
        "      j = 0\n",
        "    j += 1\n",
        "  fig1.show()    \n",
        "  \n",
        "  matrix.drop('GROUP', axis = 1, inplace = True)\n",
        "  matrix = matrix.T\n",
        "  matrix = matrix.reset_index()\n",
        "  matrix.rename({'index':'CALI'},axis = 1,inplace = True)\n",
        "  fig1 = make_subplots(rows=1, cols=k, specs=[[{'type':'domain'}]*k]);\n",
        "  for i in range(k):\n",
        "    title = \"CALI GROUP \" + str(i)\n",
        "    #fig1 = px.pie(matrix, values = i, names = 'CALI', title = title )\n",
        "    fig1 = fig1.add_trace(go.Pie(labels = matrix['CALI'], values = matrix[i], title = title),1,i+1)\n",
        "  fig1.show()"
      ],
      "execution_count": null,
      "outputs": []
    },
    {
      "cell_type": "code",
      "metadata": {
        "id": "nbwIyWIAjygt"
      },
      "source": [
        "def confusion_heatmap(mat):\n",
        "      mat1=np.array(mat)\n",
        "\n",
        "      #labels\n",
        "      x=[\"0\", \"1\"]\n",
        "      y=[\"0\", \"1\"]\n",
        "\n",
        "      #create heatmap\n",
        "      fig = ff.create_annotated_heatmap(mat1, x=x, y=y, colorscale='Viridis')\n",
        "      fig.update_layout(title_text='<i><b>Confusion matrix</b></i>',\n",
        "                        #xaxis = dict(title='x'),\n",
        "                        #yaxis = dict(title='x')\n",
        "                      )\n",
        "\n",
        "      #annotations\n",
        "      fig.add_annotation(dict(font=dict(color=\"black\",size=14),\n",
        "                              x=0.5,\n",
        "                              y=-0.15,\n",
        "                              showarrow=False,\n",
        "                              text=\"Outcome\",\n",
        "                              xref=\"paper\",\n",
        "                              yref=\"paper\"))\n",
        "      fig.add_annotation(dict(font=dict(color=\"black\",size=14),\n",
        "                              x=-0.35,\n",
        "                              y=0.5,\n",
        "                              showarrow=False,\n",
        "                              text=\"Cluster\",\n",
        "                              textangle=-90,\n",
        "                              xref=\"paper\",\n",
        "                              yref=\"paper\"))\n",
        "\n",
        "      for i in range(len(fig.layout.annotations)):\n",
        "          fig.layout.annotations[i].font.size = 40\n",
        "\n",
        "      fig.update_layout(margin=dict(t=50, l=200))\n",
        "\n",
        "      #colorscale\n",
        "      fig['data'][0]['showscale'] = True\n",
        "\n",
        "      fig.show()"
      ],
      "execution_count": null,
      "outputs": []
    },
    {
      "cell_type": "markdown",
      "metadata": {
        "id": "ZcDJKpt3ctvL"
      },
      "source": [
        "# **1D_functions**"
      ]
    },
    {
      "cell_type": "code",
      "metadata": {
        "id": "hpRZp6Bmc1Nd"
      },
      "source": [
        "# plot of 1D functions\n",
        "# arguments example:\n",
        "#   y1,y2 array of values on y_axis\n",
        "#   vol1,vol2 corrispondent volumes\n",
        "#   name, array with indexes of patients in order\n",
        "\n",
        "\n",
        "def plot_1D(*args):\n",
        "  if len(args) % 2 == 1:\n",
        "    fig = go.Figure()\n",
        "    cont=0\n",
        "    cont_2 = 0\n",
        "    for i in range(len(args)-1):\n",
        "      if not isinstance(args[i][1],list):\n",
        "        fig=fig.add_trace(go.Scatter(x = np.array(range (len(args[i]))), y = args[i],mode='lines+markers', name=args[-1][cont]))\n",
        "        cont+=1\n",
        "      else:\n",
        "         plot_3D(np.array(args[i]).T, 0, 127, args[-1][cont_2])\n",
        "         cont_2 += 1\n",
        "    fig.show()\n",
        "  \n",
        "  \n",
        "  \n",
        "  "
      ],
      "execution_count": null,
      "outputs": []
    }
  ]
}