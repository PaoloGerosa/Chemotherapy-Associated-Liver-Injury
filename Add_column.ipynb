{
  "nbformat": 4,
  "nbformat_minor": 0,
  "metadata": {
    "colab": {
      "name": "Add_column.ipynb",
      "provenance": [],
      "collapsed_sections": [],
      "include_colab_link": true
    },
    "kernelspec": {
      "name": "python3",
      "display_name": "Python 3"
    },
    "language_info": {
      "name": "python"
    }
  },
  "cells": [
    {
      "cell_type": "markdown",
      "metadata": {
        "id": "view-in-github",
        "colab_type": "text"
      },
      "source": [
        "<a href=\"https://colab.research.google.com/github/PaoloGerosa/Chemotherapy-Associated-Liver-Injury/blob/main/Add_column.ipynb\" target=\"_parent\"><img src=\"https://colab.research.google.com/assets/colab-badge.svg\" alt=\"Open In Colab\"/></a>"
      ]
    },
    {
      "cell_type": "code",
      "metadata": {
        "id": "QiVMF63TJ3se"
      },
      "source": [
        "import pandas as pd\n",
        "\n",
        "### add_column takes as input: col = an array to be added as a column to \"Database_modificato\"\n",
        "###                            name_new_col = the name of the new column \n",
        "###                            patients_aux = set of all patients ID with volume available \n",
        "\n",
        "\n",
        "def add_column (col, name_new_col, patients_aux):\n",
        "  dataset_2 = pd.read_excel('/content/mnt/MyDrive/Project_X/ANOVA_MANOVA_IntermediatePresentation/Database_modificato.xlsx').set_index('CODE-ID')\n",
        "  #if name_new_col not in dataset_2.columns:\n",
        "  dataset_2[name_new_col] = 'NaN' \n",
        "\n",
        "  for code, row in dataset_2.iterrows():\n",
        "    if code in patients_aux: \n",
        "      dataset_2[name_new_col][code] = col[code]\n",
        " \n",
        "  dataset_2.to_excel('/content/mnt/MyDrive/Project_X/ANOVA_MANOVA_IntermediatePresentation/Database_modificato.xlsx')\n"
      ],
      "execution_count": null,
      "outputs": []
    }
  ]
}